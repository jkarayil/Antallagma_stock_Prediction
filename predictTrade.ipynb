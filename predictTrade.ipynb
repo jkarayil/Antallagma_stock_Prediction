{
 "cells": [
  {
   "cell_type": "code",
   "execution_count": 78,
   "metadata": {},
   "outputs": [],
   "source": [
    "def delcolumns():\n",
    "    \n",
    "    rossmann_df.drop('Number_Of_Sales',1,inplace=True)\n",
    "    rossmann_df.drop('Price',1,inplace=True)\n",
    "    rossmann_df.drop('ID',1,inplace=True)\n",
    "    test_df.drop('ID',1,inplace=True)\n",
    "    rossmann_df.drop('Year',1,inplace=True)\n",
    "    test_df.drop('Year',1,inplace=True)\n",
    "    rossmann_df.drop('Item_ID_x',1,inplace=True)\n",
    "    test_df.drop('Item_ID_x',1,inplace=True)  \n",
    "    col = ['Day']\n",
    "    rossmann_df.drop(col,1,inplace=True)\n",
    "    test_df.drop(col,1,inplace=True) \n",
    "    \n",
    "    "
   ]
  },
  {
   "cell_type": "code",
   "execution_count": 79,
   "metadata": {},
   "outputs": [],
   "source": [
    "%matplotlib inline\n",
    "# Imports\n",
    "\n",
    "# pandas\n",
    "import pandas as pd\n",
    "from pandas import Series,DataFrame\n",
    "\n",
    "# numpy, matplotlib, seaborn\n",
    "import numpy as np\n",
    "import matplotlib.pyplot as plt\n",
    "import seaborn as sns\n",
    "sns.set_style('whitegrid')\n",
    "%matplotlib inline\n",
    "\n",
    "# machine learning\n",
    "from sklearn.linear_model import LinearRegression\n",
    "from sklearn.linear_model import LogisticRegression\n",
    "from sklearn.svm import SVC, LinearSVC\n",
    "from sklearn.ensemble import RandomForestClassifier\n",
    "from sklearn.neighbors import KNeighborsClassifier\n",
    "from sklearn.naive_bayes import GaussianNB\n",
    "import xgboost as xgb"
   ]
  },
  {
   "cell_type": "code",
   "execution_count": 80,
   "metadata": {},
   "outputs": [],
   "source": [
    "# get rossmann, store, & test csv files as a DataFrame\n",
    "rossmann_df  = pd.read_csv(\"../input/train.csv\") \n",
    "test_df      = pd.read_csv(\"../input/test.csv\") "
   ]
  },
  {
   "cell_type": "code",
   "execution_count": 81,
   "metadata": {},
   "outputs": [],
   "source": [
    "test_df = test_df.reindex_axis(['ID','Item_ID','Datetime','Category_3', 'Category_2', 'Category_1'],axis=1)"
   ]
  },
  {
   "cell_type": "code",
   "execution_count": null,
   "metadata": {},
   "outputs": [],
   "source": [
    "rossmann_df.info()\n",
    "print(\"----------------------------\")\n",
    "test_df.info()\n",
    "\n",
    "f\n",
    "test_df['Day'] = test_df['Datetime'].apply(lambda x: int(str(x)[8:10]))"
   ]
  },
  {
   "cell_type": "code",
   "execution_count": 88,
   "metadata": {},
   "outputs": [
    {
     "data": {
      "text/html": [
       "<div>\n",
       "<table border=\"1\" class=\"dataframe\">\n",
       "  <thead>\n",
       "    <tr style=\"text-align: right;\">\n",
       "      <th></th>\n",
       "      <th>ID</th>\n",
       "      <th>Item_ID</th>\n",
       "      <th>Datetime</th>\n",
       "      <th>Category_3</th>\n",
       "      <th>Category_2</th>\n",
       "      <th>Category_1</th>\n",
       "      <th>Price</th>\n",
       "      <th>Number_Of_Sales</th>\n",
       "      <th>Day</th>\n",
       "      <th>WeekDay</th>\n",
       "    </tr>\n",
       "  </thead>\n",
       "  <tbody>\n",
       "    <tr>\n",
       "      <th>0</th>\n",
       "      <td>30495_20140101</td>\n",
       "      <td>30495</td>\n",
       "      <td>2014-01-01</td>\n",
       "      <td>0</td>\n",
       "      <td>2.0</td>\n",
       "      <td>90</td>\n",
       "      <td>165.123</td>\n",
       "      <td>1</td>\n",
       "      <td>1</td>\n",
       "      <td>2</td>\n",
       "    </tr>\n",
       "    <tr>\n",
       "      <th>1</th>\n",
       "      <td>30375_20140101</td>\n",
       "      <td>30375</td>\n",
       "      <td>2014-01-01</td>\n",
       "      <td>0</td>\n",
       "      <td>2.0</td>\n",
       "      <td>307</td>\n",
       "      <td>68.666</td>\n",
       "      <td>5</td>\n",
       "      <td>1</td>\n",
       "      <td>2</td>\n",
       "    </tr>\n",
       "    <tr>\n",
       "      <th>2</th>\n",
       "      <td>30011_20140101</td>\n",
       "      <td>30011</td>\n",
       "      <td>2014-01-01</td>\n",
       "      <td>0</td>\n",
       "      <td>3.0</td>\n",
       "      <td>67</td>\n",
       "      <td>253.314</td>\n",
       "      <td>2</td>\n",
       "      <td>1</td>\n",
       "      <td>2</td>\n",
       "    </tr>\n",
       "    <tr>\n",
       "      <th>3</th>\n",
       "      <td>30864_20140101</td>\n",
       "      <td>30864</td>\n",
       "      <td>2014-01-01</td>\n",
       "      <td>0</td>\n",
       "      <td>2.0</td>\n",
       "      <td>315</td>\n",
       "      <td>223.122</td>\n",
       "      <td>1</td>\n",
       "      <td>1</td>\n",
       "      <td>2</td>\n",
       "    </tr>\n",
       "    <tr>\n",
       "      <th>4</th>\n",
       "      <td>30780_20140101</td>\n",
       "      <td>30780</td>\n",
       "      <td>2014-01-01</td>\n",
       "      <td>1</td>\n",
       "      <td>2.0</td>\n",
       "      <td>132</td>\n",
       "      <td>28.750</td>\n",
       "      <td>1</td>\n",
       "      <td>1</td>\n",
       "      <td>2</td>\n",
       "    </tr>\n",
       "  </tbody>\n",
       "</table>\n",
       "</div>"
      ],
      "text/plain": [
       "               ID  Item_ID   Datetime  Category_3  Category_2  Category_1  \\\n",
       "0  30495_20140101    30495 2014-01-01           0         2.0          90   \n",
       "1  30375_20140101    30375 2014-01-01           0         2.0         307   \n",
       "2  30011_20140101    30011 2014-01-01           0         3.0          67   \n",
       "3  30864_20140101    30864 2014-01-01           0         2.0         315   \n",
       "4  30780_20140101    30780 2014-01-01           1         2.0         132   \n",
       "\n",
       "     Price  Number_Of_Sales  Day  WeekDay  \n",
       "0  165.123                1    1        2  \n",
       "1   68.666                5    1        2  \n",
       "2  253.314                2    1        2  \n",
       "3  223.122                1    1        2  \n",
       "4   28.750                1    1        2  "
      ]
     },
     "execution_count": 88,
     "metadata": {},
     "output_type": "execute_result"
    }
   ],
   "source": [
    "rossmann_df.head()"
   ]
  },
  {
   "cell_type": "code",
   "execution_count": 85,
   "metadata": {},
   "outputs": [],
   "source": [
    "rossmann_df['Datetime'] = pd.to_datetime(rossmann_df['Datetime'])\n",
    "test_df['Datetime'] = pd.to_datetime(test_df['Datetime'])"
   ]
  },
  {
   "cell_type": "code",
   "execution_count": 87,
   "metadata": {},
   "outputs": [],
   "source": [
    "rossmann_df['WeekDay'] = rossmann_df['Datetime'].dt.dayofweek"
   ]
  },
  {
   "cell_type": "code",
   "execution_count": 90,
   "metadata": {},
   "outputs": [
    {
     "data": {
      "text/plain": [
       "array([2, 3, 4, 5, 6, 0, 1], dtype=int64)"
      ]
     },
     "execution_count": 90,
     "metadata": {},
     "output_type": "execute_result"
    }
   ],
   "source": [
    "rossmann_df['WeekDay'].unique()"
   ]
  },
  {
   "cell_type": "code",
   "execution_count": 99,
   "metadata": {
    "collapsed": true
   },
   "outputs": [],
   "source": [
    "# Date\n",
    "# Create Year and Month columns\n",
    "rossmann_df['Year']  = rossmann_df['Datetime'].apply(lambda x: int(str(x)[:4]))\n",
    "rossmann_df['Month'] = rossmann_df['Datetime'].apply(lambda x: int(str(x)[5:7]))\n",
    "\n",
    "test_df['Year']  = test_df['Datetime'].apply(lambda x: int(str(x)[:4]))\n",
    "test_df['Month'] = test_df['Datetime'].apply(lambda x: int(str(x)[5:7]))\n",
    "\n",
    "# Assign Date column to Date(Year-Month) instead of (Year-Month-Day)\n",
    "# this column will be useful in analysis and visualization\n",
    "rossmann_df['Datetime'] = rossmann_df['Datetime'].apply(lambda x: (str(x)[:7]))\n",
    "test_df['Datetime']     = test_df['Datetime'].apply(lambda x: (str(x)[:7]))"
   ]
  },
  {
   "cell_type": "code",
   "execution_count": 58,
   "metadata": {},
   "outputs": [],
   "source": [
    "rossmann_df.drop(['Datetime'],inplace=True,axis=1)\n",
    "test_df.drop(['Datetime'],inplace=True,axis=1)\n",
    "\n",
    "#rossmann_df.Category_1.unique() #category_3 has nan value ( its binary)\n",
    "#Category_2 has five values  2.,   3.,   1.,   4.,   5.,  nan\n",
    "# Category_1  has random values and nan"
   ]
  },
  {
   "cell_type": "code",
   "execution_count": 59,
   "metadata": {
    "collapsed": true
   },
   "outputs": [],
   "source": [
    "rossmann_df.Category_2.fillna(0,inplace=True)\n",
    "test_df.Category_2.fillna(0,inplace=True)"
   ]
  },
  {
   "cell_type": "raw",
   "metadata": {},
   "source": [
    "\n",
    "# preview the data\n",
    "rossmann_df.Item_ID.unique().size # There are 1529 unique Item_ID in rossmann dataframe\n",
    "test_df.Item_ID.unique().size # There are 1447 Item_Id in test dataframe"
   ]
  },
  {
   "cell_type": "code",
   "execution_count": 60,
   "metadata": {},
   "outputs": [],
   "source": [
    "rossmann_df = rossmann_df[rossmann_df['Month'] != 0] # removed row with zero value in the month"
   ]
  },
  {
   "cell_type": "code",
   "execution_count": null,
   "metadata": {
    "collapsed": true
   },
   "outputs": [],
   "source": [
    "    columns = ['Month', 'Category_2', 'Promo']\n",
    "medians = train.groupby( columns )['Sales'].median()\n",
    "medians = medians.reset_index()\n",
    "\n",
    "test2 = pd.merge( test, medians, on = columns, how = 'left' )"
   ]
  },
  {
   "cell_type": "markdown",
   "metadata": {},
   "source": [
    "rossmann_df['Item_ID'].groupby(rossmann_df['Category_2']).median()"
   ]
  },
  {
   "cell_type": "code",
   "execution_count": 101,
   "metadata": {
    "scrolled": true
   },
   "outputs": [
    {
     "data": {
      "text/html": [
       "<div>\n",
       "<table border=\"1\" class=\"dataframe\">\n",
       "  <thead>\n",
       "    <tr style=\"text-align: right;\">\n",
       "      <th></th>\n",
       "      <th>ID</th>\n",
       "      <th>Item_ID</th>\n",
       "      <th>Datetime</th>\n",
       "      <th>Category_3</th>\n",
       "      <th>Category_2</th>\n",
       "      <th>Category_1</th>\n",
       "      <th>Price</th>\n",
       "      <th>Number_Of_Sales</th>\n",
       "      <th>Day</th>\n",
       "      <th>WeekDay</th>\n",
       "      <th>Year</th>\n",
       "      <th>Month</th>\n",
       "    </tr>\n",
       "  </thead>\n",
       "  <tbody>\n",
       "    <tr>\n",
       "      <th>0</th>\n",
       "      <td>30495_20140101</td>\n",
       "      <td>30495</td>\n",
       "      <td>2014-01</td>\n",
       "      <td>0</td>\n",
       "      <td>2.0</td>\n",
       "      <td>90</td>\n",
       "      <td>165.123</td>\n",
       "      <td>1</td>\n",
       "      <td>1</td>\n",
       "      <td>2</td>\n",
       "      <td>2014</td>\n",
       "      <td>1</td>\n",
       "    </tr>\n",
       "    <tr>\n",
       "      <th>1</th>\n",
       "      <td>30375_20140101</td>\n",
       "      <td>30375</td>\n",
       "      <td>2014-01</td>\n",
       "      <td>0</td>\n",
       "      <td>2.0</td>\n",
       "      <td>307</td>\n",
       "      <td>68.666</td>\n",
       "      <td>5</td>\n",
       "      <td>1</td>\n",
       "      <td>2</td>\n",
       "      <td>2014</td>\n",
       "      <td>1</td>\n",
       "    </tr>\n",
       "    <tr>\n",
       "      <th>2</th>\n",
       "      <td>30011_20140101</td>\n",
       "      <td>30011</td>\n",
       "      <td>2014-01</td>\n",
       "      <td>0</td>\n",
       "      <td>3.0</td>\n",
       "      <td>67</td>\n",
       "      <td>253.314</td>\n",
       "      <td>2</td>\n",
       "      <td>1</td>\n",
       "      <td>2</td>\n",
       "      <td>2014</td>\n",
       "      <td>1</td>\n",
       "    </tr>\n",
       "    <tr>\n",
       "      <th>3</th>\n",
       "      <td>30864_20140101</td>\n",
       "      <td>30864</td>\n",
       "      <td>2014-01</td>\n",
       "      <td>0</td>\n",
       "      <td>2.0</td>\n",
       "      <td>315</td>\n",
       "      <td>223.122</td>\n",
       "      <td>1</td>\n",
       "      <td>1</td>\n",
       "      <td>2</td>\n",
       "      <td>2014</td>\n",
       "      <td>1</td>\n",
       "    </tr>\n",
       "    <tr>\n",
       "      <th>4</th>\n",
       "      <td>30780_20140101</td>\n",
       "      <td>30780</td>\n",
       "      <td>2014-01</td>\n",
       "      <td>1</td>\n",
       "      <td>2.0</td>\n",
       "      <td>132</td>\n",
       "      <td>28.750</td>\n",
       "      <td>1</td>\n",
       "      <td>1</td>\n",
       "      <td>2</td>\n",
       "      <td>2014</td>\n",
       "      <td>1</td>\n",
       "    </tr>\n",
       "  </tbody>\n",
       "</table>\n",
       "</div>"
      ],
      "text/plain": [
       "               ID  Item_ID Datetime  Category_3  Category_2  Category_1  \\\n",
       "0  30495_20140101    30495  2014-01           0         2.0          90   \n",
       "1  30375_20140101    30375  2014-01           0         2.0         307   \n",
       "2  30011_20140101    30011  2014-01           0         3.0          67   \n",
       "3  30864_20140101    30864  2014-01           0         2.0         315   \n",
       "4  30780_20140101    30780  2014-01           1         2.0         132   \n",
       "\n",
       "     Price  Number_Of_Sales  Day  WeekDay  Year  Month  \n",
       "0  165.123                1    1        2  2014      1  \n",
       "1   68.666                5    1        2  2014      1  \n",
       "2  253.314                2    1        2  2014      1  \n",
       "3  223.122                1    1        2  2014      1  \n",
       "4   28.750                1    1        2  2014      1  "
      ]
     },
     "execution_count": 101,
     "metadata": {},
     "output_type": "execute_result"
    }
   ],
   "source": [
    "# preview the data\n",
    "rossmann_df.head()"
   ]
  },
  {
   "cell_type": "code",
   "execution_count": 122,
   "metadata": {},
   "outputs": [
    {
     "data": {
      "text/plain": [
       "<matplotlib.axes._subplots.AxesSubplot at 0x9261888c>"
      ]
     },
     "execution_count": 122,
     "metadata": {},
     "output_type": "execute_result"
    },
    {
     "data": {
      "image/png": "[encoded data removed]",
      "text/plain": [
       "<matplotlib.figure.Figure at 0xa3dd4e2c>"
      ]
     },
     "metadata": {},
     "output_type": "display_data"
    }
   ],
   "source": [
    "tmp = rossmann_df.loc[(rossmann_df['Month'] == 3 ) & rossmann_df['Month'] == 3 ]\n",
    "#plt.plot(tmp[\"WeekDay\"],tmp[\"Price\"])\n",
    "\n",
    "# DayOfWeek\n",
    "# In both cases where the store is closed and opened\n",
    "\n",
    "fig, (axis1,axis2) = plt.subplots(1,2,figsize=(15,4))\n",
    "\n",
    "sns.barplot(x='WeekDay', y='Number_Of_Sales', data=rossmann_df, ax=axis1)\n",
    "sns.barplot(x='WeekDay', y='Price', data=rossmann_df, ax=axis2)"
   ]
  },
  {
   "cell_type": "code",
   "execution_count": 73,
   "metadata": {},
   "outputs": [
    {
     "data": {
      "image/png": "[encoded data removed]",
      "text/plain": [
       "<matplotlib.figure.Figure at 0xa978eecc>"
      ]
     },
     "metadata": {},
     "output_type": "display_data"
    }
   ],
   "source": [
    "# group by date and get average sales, and precent change\n",
    "average_sales    = rossmann_df.groupby(['Month','Day'])[\"c\"].mean()\n",
    "pct_change_sales = rossmann_df.groupby(['Month','Day'])[\"Number_Of_Sales\"].sum().pct_change()\n",
    "\n",
    "fig, (axis1,axis2) = plt.subplots(2,1,sharex=True,figsize=(15,8))\n",
    "\n",
    "# plot average sales over time(year-month)\n",
    "ax1 = average_sales.plot(legend=True,ax=axis1,marker='o',title=\"Average Sales\")\n",
    "ax1.set_xticks(range(len(average_sales)))\n",
    "ax1.set_xticklabels(average_sales.index.tolist(), rotation=90)\n",
    "\n",
    "# plot precent change for sales over time(year-month)\n",
    "ax2 = pct_change_sales.plot(legend=True,ax=axis2,marker='o',rot=90,colormap=\"summer\",title=\"Sales Percent Change\")\n",
    "# ax2.set_xticks(range(len(pct_change_sales)))\n",
    "# ax2.set_xticklabels(pct_change_sales.index.tolist(), rotation=90)"
   ]
  },
  {
   "cell_type": "code",
   "execution_count": 62,
   "metadata": {
    "collapsed": true
   },
   "outputs": [],
   "source": [
    "#temp.columns = ['ca2_0','ca2_1', 'ca2_2','ca2_3','ca2_4','ca2_5']\n",
    "#rossmann_df = rossmann_df.join(rossmann_df.groupby(['Month','Category_2'])['Item_ID'].mean(), on='Category_2', rsuffix='_r')\n",
    "#test_df = test_df.join(test_df.groupby(['Category_2'])['Month'].mean(), on='Category_2', rsuffix='_r')\n",
    "\n",
    "rossmann_df_gped = rossmann_df.groupby(['Month','Category_2'], as_index=False)['Item_ID'].mean()\n",
    "test_df_gped = test_df.groupby(['Month','Category_2'], as_index=False)['Item_ID'].mean()"
   ]
  },
  {
   "cell_type": "code",
   "execution_count": 68,
   "metadata": {},
   "outputs": [],
   "source": [
    "#pd.merge(po_grouped_df, pol_df, on=['EID','PCODE'], how='inner',suffixes=('_Acc','_Po'))\n",
    "rossmann_df = pd.merge(rossmann_df,rossmann_df_gped, on=['Month','Category_2'],how='inner' )\n",
    "test_df = test_df.merge(test_df_gped, on=['Month','Category_2'],how='inner')"
   ]
  },
  {
   "cell_type": "code",
   "execution_count": 14,
   "metadata": {},
   "outputs": [],
   "source": [
    " rossmann_df = rossmann_df[rossmann_df.Number_Of_Sales < 400000 ] "
   ]
  },
  {
   "cell_type": "raw",
   "metadata": {},
   "source": [
    "# group by Datetime\\time\\ and get average sales, and precent change\n",
    "average_sales    = test_df.groupby('Category_2')[\"Item_ID\"].mean()\n",
    "pct_change_sales = test_df.groupby('Category_2')[\"Item_ID\"].sum().pct_change()\n",
    "\n",
    "\n",
    "fig, (axis1,axis2) = plt.subplots(2,1,sharex=True,figsize=(15,8))\n",
    "\n",
    "# plot average sales over time(year-month)\n",
    "ax1 = average_sales.plot(legend=True,ax=axis1,marker='o',title=\"Average Sales\")\n",
    "ax1.set_xticks(range(len(average_sales)))\n",
    "ax1.set_xticklabels(average_sales.index.tolist(), rotation=90)\n",
    "\n",
    "# plot precent change for sales over time(year-month)\n",
    "ax2 = pct_change_sales.plot(legend=True,ax=axis2,marker='o',rot=90,colormap=\"summer\",title=\"Sales Percent Change\")\n",
    "# ax2.set_xticks(range(len(pct_change_sales)))\n",
    "# ax2.set_xticklabels(pct_change_sales.index.tolist(), rotation=90)"
   ]
  },
  {
   "cell_type": "raw",
   "metadata": {},
   "source": [
    "# group by Datetime\\time\\ and get average sales, and precent change\n",
    "average_sales    = rossmann_df.groupby(['Month','Day'])[\"Price\"].mean()\n",
    "pct_change_sales = rossmann_df.groupby(['Month','Day'])[\"Price\"].sum().pct_change()\n",
    "\n",
    "fig, (axis1,axis2) = plt.subplots(2,1,sharex=True,figsize=(15,8))\n",
    "\n",
    "# plot average sales over time(year-month)\n",
    "ax1 = average_sales.plot(legend=True,ax=axis1,marker='o',title=\"Average Sales\")\n",
    "ax1.set_xticks(range(len(average_sales)))\n",
    "ax1.set_xticklabels(average_sales.index.tolist(), rotation=90)\n",
    "\n",
    "# plot precent change for sales over time(year-month)\n",
    "ax2 = pct_change_sales.plot(legend=True,ax=axis2,marker='o',rot=90,colormap=\"summer\",title=\"Sales Percent Change\")\n",
    "# ax2.set_xticks(range(len(pct_change_sales)))\n",
    "# ax2.set_xticklabels(pct_change_sales.index.tolist(), rotation=90)"
   ]
  },
  {
   "cell_type": "raw",
   "metadata": {},
   "source": [
    "# group by Datetime\\time\\ and get average sales, and precent change\n",
    "average_sales    = rossmann_df.groupby(['Month','Category_2'])[\"Price\"].mean()\n",
    "pct_change_sales = rossmann_df.groupby(['Month','Category_2'])[\"Price\"].sum().pct_change()\n",
    "\n",
    "fig, (axis1,axis2) = plt.subplots(2,1,sharex=True,figsize=(15,8))\n",
    "\n",
    "# plot average sales over time(year-month)\n",
    "ax1 = average_sales.plot(legend=True,ax=axis1,marker='o',title=\"Average Price\")\n",
    "ax1.set_xticks(range(len(average_sales)))\n",
    "ax1.set_xticklabels(average_sales.index.tolist(), rotation=90)\n",
    "\n",
    "# plot precent change for sales over time(year-month)\n",
    "ax2 = pct_change_sales.plot(legend=True,ax=axis2,marker='o',rot=90,colormap=\"summer\",title=\"Price Percent Change\")\n",
    "# ax2.set_xticks(range(len(pct_change_sales)))\n",
    "# ax2.set_xticklabels(pct_change_sales.index.tolist(), rotation=90)"
   ]
  },
  {
   "cell_type": "code",
   "execution_count": null,
   "metadata": {},
   "outputs": [],
   "source": [
    "# Open\n",
    "fig, (axis1) = plt.subplots(1,1,figsize=(15,4))\n",
    "sns.countplot(x='Category_3',hue='Month', data=rossmann_df,palette=\"husl\", ax=axis1)"
   ]
  },
  {
   "cell_type": "code",
   "execution_count": null,
   "metadata": {},
   "outputs": [],
   "source": [
    "# Open\n",
    "fig, (axis1) = plt.subplots(1,1,figsize=(15,4))\n",
    "sns.countplot(x='Category_2',hue='Item_ID', data=rossmann_df,palette=\"husl\", ax=axis1)"
   ]
  },
  {
   "cell_type": "code",
   "execution_count": null,
   "metadata": {
    "collapsed": true
   },
   "outputs": [],
   "source": [
    "# Using store_df\n",
    "# Merge store_df with average store sales & customers\n",
    "avg_item_cat = rossmann_df.groupby(['Month','Category_2'])[\"Item_ID\"].mean().rename(\"cat2_item\").reset_index()"
   ]
  },
  {
   "cell_type": "code",
   "execution_count": null,
   "metadata": {},
   "outputs": [],
   "source": [
    "rossmann_df = pd.merge(rossmann_df, avg_item_cat, on='Category_2')\n",
    "\n",
    "avg_item_cat = rossmann_df.groupby('Month','Category_3')[\"Item_ID\"].mean().rename(\"cat3_item\").reset_index()\n",
    "rossmann_df = pd.merge(rossmann_df, avg_item_cat, on='Category_3')\n",
    " \n",
    "    "
   ]
  },
  {
   "cell_type": "code",
   "execution_count": null,
   "metadata": {},
   "outputs": [],
   "source": [
    "rossmann_df.head()"
   ]
  },
  {
   "cell_type": "code",
   "execution_count": null,
   "metadata": {
    "collapsed": true
   },
   "outputs": [],
   "source": [
    "# Using store_df\n",
    "\n",
    "# Merge store_df with average store sales & customers\n",
    "average_sales_customers = rossmann_df.groupby('Store')[[\"Sales\", \"Customers\"]].mean()\n",
    "sales_customers_df = DataFrame({'Store':average_sales_customers.index,\n",
    "                      'Sales':average_sales_customers[\"Sales\"], 'Customers': average_sales_customers[\"Customers\"]}, \n",
    "                      columns=['Store', 'Sales', 'Customers'])\n",
    "store_df = pd.merge(sales_customers_df, store_df, on='Store')\n",
    "\n",
    "store_df.head()"
   ]
  },
  {
   "cell_type": "raw",
   "metadata": {},
   "source": [
    "\n",
    "average_store_sales = store_data.groupby('Datetime')[\"Sales\"].mean()\n",
    "\n",
    "# Get year, and month when Competition started\n",
    "y = store_df[\"CompetitionOpenSinceYear\"].loc[store_df[\"Store\"]  == store_id].values[0]\n",
    "m = store_df[\"CompetitionOpenSinceMonth\"].loc[store_df[\"Store\"] == store_id].values[0]\n",
    "\n",
    "# Plot \n",
    "ax = average_store_sales.plot(legend=True,figsize=(15,4),marker='o')\n",
    "ax.set_xticks(range(len(average_store_sales)))\n",
    "ax.set_xticklabels(average_store_sales.index.tolist(), rotation=90)\n",
    "\n",
    "# Since all data of store sales given in rossmann_df starts with year=2013 till 2015,\n",
    "# So, we need to check if year>=2013 and y & m aren't NaN values.\n",
    "if y >= 2013 and y == y and m == m:\n",
    "    plt.axvline(x=((y-2013) * 12) + (m - 1), linewidth=3, color='grey')"
   ]
  },
  {
   "cell_type": "code",
   "execution_count": null,
   "metadata": {},
   "outputs": [],
   "source": [
    "test_ID = test_df['ID']\n",
    "target_sales = rossmann_df['Number_Of_Sales']\n",
    "target_price = rossmann_df['Price']\n",
    "\n",
    "delcolumns()"
   ]
  },
  {
   "cell_type": "code",
   "execution_count": null,
   "metadata": {},
   "outputs": [],
   "source": [
    "# DayOfWeek\n",
    "# In both cases where the store is closed and opened\n",
    "\n",
    "fig, (axis1,axis2) = plt.subplots(1,2,figsize=(15,4))\n",
    "\n",
    "sns.barplot(x='Category_2', y='Number_Of_Sales', data=rossmann_df, order=[0,1,2,3,4,5,6], ax=axis1)"
   ]
  },
  {
   "cell_type": "code",
   "execution_count": null,
   "metadata": {},
   "outputs": [],
   "source": [
    "from sklearn import cross_validation\n",
    "import xgboost as xgb\n",
    "from sklearn.model_selection import GridSearchCV, train_test_split\n",
    "from xgboost import XGBRegressor\n",
    "from sklearn.metrics import r2_score\n",
    "\n",
    "# Thanks to Chenglong Chen for providing this in the forum\n",
    "def ToWeight(y):\n",
    "    w = np.zeros(y.shape, dtype=float)\n",
    "    ind = y != 0\n",
    "    w[ind] = 1./(y[ind]**2)\n",
    "    return w\n",
    "\n",
    "\n",
    "def rmspe(yhat, y):\n",
    "    w = ToWeight(y)\n",
    "    rmspe = np.sqrt(np.mean( w * (y - yhat)**2 ))\n",
    "    return rmspe\n",
    "\n",
    "\n",
    "def rmspe_xg(yhat, y):\n",
    "    # y = y.values\n",
    "    y = y.get_label()\n",
    "    y = np.exp(y) - 1\n",
    "    yhat = np.exp(yhat) - 1\n",
    "    w = ToWeight(y)\n",
    "    rmspe = np.sqrt(np.mean(w * (y - yhat)**2))\n",
    "    return \"rmspe\", rmspe\n",
    "\n",
    "\n",
    "print(\"Train xgboost model\")\n",
    "\n",
    "params = {'min_child_weight':[4,5],\n",
    "          'gamma':[i/10.0 for i in range(3,4)], \n",
    "          'subsample':[i/10.0 for i in range(6,7)],\n",
    "          'colsample_bytree':[i/10.0 for i in range(6,7)], \n",
    "          'max_depth': [2]\n",
    "         }\n",
    "\n",
    "num_boost_round = 1200\n",
    "\n",
    "#===\n",
    "X, Xv, Y, Yv = train_test_split(rossmann_df, target_sales)\n",
    "\n",
    "xgb = XGBRegressor(nthread=4) \n",
    "\n",
    "grid = GridSearchCV(xgb, params)\n",
    "grid.fit(X,Y)\n",
    "\n",
    "# Print the r2 score\n",
    "print(r2_score(Yv, grid.best_estimator_.predict(Xv)))\n",
    "#====\n",
    "\n",
    "#print(\"Validating\")\n",
    "yhat = grid.best_estimator_.predict(Xv)\n",
    "error = rmspe(Yv, np.expm1(yhat))\n",
    "print('RMSPE: {:.6f}'.format(error))\n",
    "\n",
    "sales_test = grid.best_estimator_.predict(test_df)"
   ]
  },
  {
   "cell_type": "code",
   "execution_count": null,
   "metadata": {},
   "outputs": [],
   "source": [
    "#===\n",
    "X, Xv, Y, Yv = train_test_split(rossmann_df, target_price)\n",
    "\n",
    "xgb = XGBRegressor(nthread=4) \n",
    "\n",
    "grid = GridSearchCV(xgb, params)\n",
    "grid.fit(X,Y)\n",
    "\n",
    "# Print the r2 score\n",
    "print(r2_score(Yv, grid.best_estimator_.predict(Xv)))\n",
    "#====\n",
    "\n",
    "#print(\"Validating\")\n",
    "price_yhat = grid.best_estimator_.predict(Xv)\n",
    "error = rmspe(Yv, np.expm1(yhat))\n",
    "print('RMSPE: {:.6f}'.format(error))\n",
    "\n",
    "price_test = grid.best_estimator_.predict(test_df)"
   ]
  },
  {
   "cell_type": "code",
   "execution_count": null,
   "metadata": {
    "collapsed": true
   },
   "outputs": [],
   "source": [
    "# Make Submission\n",
    "result = pd.DataFrame({\"ID\": test_ID, 'Number_Of_Sales': sales_test, 'Price': price_test})\n",
    "result.to_csv(\"xgboost_submission.csv\", index=False)"
   ]
  }
 ],
 "metadata": {
  "kernelspec": {
   "display_name": "Python 3",
   "language": "python",
   "name": "python3"
  },
  "language_info": {
   "codemirror_mode": {
    "name": "ipython",
    "version": 3
   },
   "file_extension": ".py",
   "mimetype": "text/x-python",
   "name": "python",
   "nbconvert_exporter": "python",
   "pygments_lexer": "ipython3",
   "version": "3.7.1"
  }
 },
 "nbformat": 4,
 "nbformat_minor": 2
}
